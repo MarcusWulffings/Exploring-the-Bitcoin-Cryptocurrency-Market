{
 "cells": [
  {
   "cell_type": "code",
   "execution_count": null,
   "metadata": {},
   "outputs": [],
   "source": [
    "import pandas as pd\n",
    "\n",
    "# Import matplotlib and setting aesthetics for plotting \n",
    "import matplotlib.pyplot as plt\n",
    "%matplotlib inline\n",
    "%config InlineBackend.figure_format = 'svg' \n",
    "plt.style.use('fivethirtyeight')\n",
    "\n",
    "# Read datasets/coinmarketcap_06122017.csv into pandas\n",
    "dec6 = pd.read_csv('datasets/coinmarketcap_06122017.csv')\n",
    "\n",
    "# Select the 'id' and the 'market_cap_usd' columns\n",
    "market_cap_raw = dec6[['id','market_cap_usd']]\n",
    "\n",
    "# Counting the number of values\n",
    "market_cap_raw.count()\n",
    "print(market_cap_raw.head())\n",
    "print(market_cap_raw.tail())"
   ]
  },
  {
   "cell_type": "code",
   "execution_count": null,
   "metadata": {},
   "outputs": [],
   "source": [
    "# Filter out rows without a market capitalization\n",
    "cap = market_cap_raw.query('market_cap_usd > 0')\n",
    "print(cap.tail())\n",
    "\n",
    "# Count the number of values again\n",
    "cap.count()"
   ]
  },
  {
   "cell_type": "code",
   "execution_count": null,
   "metadata": {},
   "outputs": [],
   "source": [
    "# Declare these now for later use in the plots\n",
    "TOP_CAP_TITLE = 'Top 10 market capitalization'\n",
    "TOP_CAP_YLABEL = '% of total cap'\n",
    "\n",
    "# Select the first 10 rows and set the index\n",
    "cap10 = cap.head(10).set_index(cap.id[:10])\n",
    "\n",
    "# Calculate market_cap_perc\n",
    "cap10 = cap10.assign(market_cap_perc = lambda x: (x.market_cap_usd/cap.market_cap_usd.sum())*100)\n",
    "\n",
    "# Plot the barplot with the title defined above \n",
    "ax = cap10.plot.bar(x='id', y='market_cap_perc', title=TOP_CAP_TITLE)\n",
    "\n",
    "# Annotate the y axis with the label defined above\n",
    "ax.set_ylabel(TOP_CAP_YLABEL)"
   ]
  },
  {
   "cell_type": "code",
   "execution_count": null,
   "metadata": {},
   "outputs": [],
   "source": [
    "# Colors for the bar plot\n",
    "COLORS = ['orange', 'green', 'orange', 'cyan', 'cyan', 'blue', 'silver', 'orange', 'red', 'green']\n",
    "\n",
    "# Plot market_cap_usd as before but adding the colors and scaling the y-axis  \n",
    "ax = cap10.plot.bar(x='id', y='market_cap_usd', title=TOP_CAP_TITLE, color = COLORS, logy=True)\n",
    "\n",
    "# Annotating the y axis with 'USD'\n",
    "ax.set_ylabel('USD')\n",
    "\n",
    "# Remove the xlabel as it is not very informative\n",
    "ax.set_xlabel('')"
   ]
  },
  {
   "cell_type": "code",
   "execution_count": null,
   "metadata": {},
   "outputs": [],
   "source": [
    "# Select the id, percent_change_24h and percent_change_7d columns\n",
    "volatility = dec6[['id', 'percent_change_24h', 'percent_change_7d']]\n",
    "\n",
    "# Set the index to 'id' and drop all NaN rows\n",
    "volatility = volatility.set_index('id').dropna()\n",
    "\n",
    "# Sort the DataFrame by percent_change_24h in ascending order\n",
    "volatility = volatility.sort_values('percent_change_24h', axis=0, ascending=True)\n",
    "\n",
    "# Check the first few rows\n",
    "volatility.head()"
   ]
  },
  {
   "cell_type": "code",
   "execution_count": null,
   "metadata": {},
   "outputs": [],
   "source": [
    "#Define a function with 2 parameters, the series to plot and the title\n",
    "def top10_subplot(volatility_series, title):\n",
    "    # Make the subplot and the figure for two side by side plots\n",
    "    fig, axes = plt.subplots(nrows=1, ncols=2, figsize=(10, 6))\n",
    "    \n",
    "    # Plote with pandas the barchart for the top 10 losers\n",
    "    ax = volatility_series[:10].plot.bar(color='darkred', ax=axes[0])\n",
    "    \n",
    "    # Set the figure's main title to the text passed as parameter\n",
    "    fig.suptitle(title)\n",
    "    \n",
    "    \n",
    "    # Set the ylabel to '% change'\n",
    "    ax.set_ylabel('% change')\n",
    "    \n",
    "    \n",
    "    # Same as above, but for the top 10 winners\n",
    "    ax = volatility_series[-10:].plot.bar(color='darkblue', ax=axes[1])\n",
    "    \n",
    "    # Return this for good practice\n",
    "    return fig, ax\n",
    "\n",
    "DTITLE = \"24 hours top losers and winners\"\n",
    "\n",
    "# Call the function above with the 24 hours period series and title DTITLE  \n",
    "fig, ax = top10_subplot(volatility.percent_change_24h, DTITLE)"
   ]
  },
  {
   "cell_type": "code",
   "execution_count": null,
   "metadata": {},
   "outputs": [],
   "source": [
    "# Sort in ascending order\n",
    "volatility7d = volatility.sort_values('percent_change_7d',ascending=True)\n",
    "print(volatility7d.head())\n",
    "\n",
    "WTITLE = \"Weekly top losers and winners\"\n",
    "\n",
    "# Call the top10_subplot function\n",
    "fig, ax = top10_subplot(volatility7d.percent_change_7d, WTITLE)"
   ]
  },
  {
   "cell_type": "code",
   "execution_count": null,
   "metadata": {},
   "outputs": [],
   "source": [
    "# Select everything bigger than 10 billion \n",
    "largecaps = cap.query('market_cap_usd > 10e+09')\n",
    "\n",
    "# Print out largecaps\n",
    "print(largecaps)"
   ]
  },
  {
   "cell_type": "code",
   "execution_count": null,
   "metadata": {},
   "outputs": [],
   "source": [
    "# Make a function for counting different marketcaps from the\n",
    "# \"cap\" DataFrame. Returns an int.\n",
    "def capcount(query_string):\n",
    "    return cap.query(query_string).count().id\n",
    "\n",
    "# Labels for the plot\n",
    "LABELS = [\"biggish\", \"micro\", \"nano\"]\n",
    "\n",
    "# Use capcount count the biggish cryptos\n",
    "biggish = capcount('market_cap_usd > 3e+08')\n",
    "\n",
    "# Same as above for micro \n",
    "\n",
    "micro = capcount('market_cap_usd > 50e+06 & market_cap_usd < 3e+08')\n",
    "\n",
    "# ... and for nano\n",
    "nano =  capcount('market_cap_usd < 50e+06')\n",
    "\n",
    "# Make a list with the 3 counts\n",
    "values = [biggish, micro, nano]\n",
    "\n",
    "# Plot them with matplotlib \n",
    "plt.bar(range(len(values)), values, tick_label = LABELS)"
   ]
  }
 ],
 "metadata": {
  "kernelspec": {
   "display_name": "Python 3",
   "language": "python",
   "name": "python3"
  },
  "language_info": {
   "codemirror_mode": {
    "name": "ipython",
    "version": 3
   },
   "file_extension": ".py",
   "mimetype": "text/x-python",
   "name": "python",
   "nbconvert_exporter": "python",
   "pygments_lexer": "ipython3",
   "version": "3.7.4"
  }
 },
 "nbformat": 4,
 "nbformat_minor": 2
}
